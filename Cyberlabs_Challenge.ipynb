{
  "nbformat": 4,
  "nbformat_minor": 0,
  "metadata": {
    "colab": {
      "name": "Cyberlabs Challenge.ipynb",
      "provenance": [],
      "collapsed_sections": [
        "vdWk0IYJdm0Z"
      ],
      "authorship_tag": "ABX9TyMUaFnnXS/ShoErLFQW4kIH",
      "include_colab_link": true
    },
    "kernelspec": {
      "name": "python3",
      "display_name": "Python 3"
    },
    "language_info": {
      "name": "python"
    },
    "accelerator": "GPU"
  },
  "cells": [
    {
      "cell_type": "markdown",
      "metadata": {
        "id": "view-in-github",
        "colab_type": "text"
      },
      "source": [
        "<a href=\"https://colab.research.google.com/github/AbeRodz/Cyberlabs-MNIST-Challenge/blob/main/Cyberlabs_Challenge.ipynb\" target=\"_parent\"><img src=\"https://colab.research.google.com/assets/colab-badge.svg\" alt=\"Open In Colab\"/></a>"
      ]
    },
    {
      "cell_type": "markdown",
      "metadata": {
        "id": "ANwmwwn4PHVn"
      },
      "source": [
        "# This notebook is for the Cyberlabs internship test\n",
        "\n",
        "***Note:*** *Recomended to use google collab, for easy usage.*\n"
      ]
    },
    {
      "cell_type": "code",
      "metadata": {
        "id": "QX27F48btPiE"
      },
      "source": [
        "import torch\n",
        "import torch.nn\n",
        "import torchvision\n",
        "import torch.optim\n",
        "from torchvision import transforms\n",
        "from torchvision.datasets import MNIST\n",
        "import matplotlib.pyplot as plt\n",
        "import numpy as np\n"
      ],
      "execution_count": 1,
      "outputs": []
    },
    {
      "cell_type": "code",
      "metadata": {
        "id": "SkNZVp010uSn"
      },
      "source": [
        "!pip install -Uqq fastbook\n",
        "import fastbook\n",
        "fastbook.setup_book()\n",
        "\n"
      ],
      "execution_count": 2,
      "outputs": []
    },
    {
      "cell_type": "code",
      "metadata": {
        "id": "bkMjcV0a04KY"
      },
      "source": [
        "#hide\n",
        "from fastai.vision.all import *\n",
        "from fastbook import *\n",
        "\n",
        "matplotlib.rc('image', cmap='Greys')"
      ],
      "execution_count": 3,
      "outputs": []
    },
    {
      "cell_type": "markdown",
      "metadata": {
        "id": "6HRQWmY_WUS_"
      },
      "source": [
        "### Checking for cuda devices"
      ]
    },
    {
      "cell_type": "code",
      "metadata": {
        "colab": {
          "base_uri": "https://localhost:8080/"
        },
        "id": "fRfYoIuIUivT",
        "outputId": "bab36eda-9b9e-45e6-8c45-b8f40e5a01a5"
      },
      "source": [
        "device = torch.device('cuda' if torch.cuda.is_available() else 'cpu')\n",
        "print('Using device:', device)\n",
        "if device.type == 'cuda':\n",
        "    print(torch.cuda.get_device_name(0))\n",
        "    print('Memory Usage:')\n",
        "    print('Allocated:', round(torch.cuda.memory_allocated(0)/1024**3,1), 'GB')\n",
        "    print('Cached:   ', round(torch.cuda.memory_reserved(0)/1024**3,1), 'GB')"
      ],
      "execution_count": 4,
      "outputs": [
        {
          "output_type": "stream",
          "name": "stdout",
          "text": [
            "Using device: cuda\n",
            "Tesla K80\n",
            "Memory Usage:\n",
            "Allocated: 0.0 GB\n",
            "Cached:    0.0 GB\n"
          ]
        }
      ]
    },
    {
      "cell_type": "markdown",
      "metadata": {
        "id": "2SAsDotYPU-m"
      },
      "source": [
        "###Downloading an transformating the dataset using pytorch.\n"
      ]
    },
    {
      "cell_type": "code",
      "metadata": {
        "id": "ILSq5Fw655pX"
      },
      "source": [
        "img_to_tensor = transforms.ToTensor()"
      ],
      "execution_count": 5,
      "outputs": []
    },
    {
      "cell_type": "code",
      "metadata": {
        "id": "2cIY6IfetUch",
        "colab": {
          "base_uri": "https://localhost:8080/"
        },
        "outputId": "5318fbc5-9fa6-4ee8-97c3-773d5e2ef1f1"
      },
      "source": [
        "dataset = MNIST('dataset', train = True, download= True,transform=img_to_tensor )\n",
        "dataset_test = MNIST('dataset', train = False, download= True,transform=img_to_tensor)\n",
        "train = list(dataset)"
      ],
      "execution_count": 6,
      "outputs": [
        {
          "output_type": "stream",
          "name": "stderr",
          "text": [
            "/usr/local/lib/python3.7/dist-packages/torchvision/datasets/mnist.py:498: UserWarning: The given NumPy array is not writeable, and PyTorch does not support non-writeable tensors. This means you can write to the underlying (supposedly non-writeable) NumPy array using the tensor. You may want to copy the array to protect its data or make it writeable before converting it to a tensor. This type of warning will be suppressed for the rest of this program. (Triggered internally at  /pytorch/torch/csrc/utils/tensor_numpy.cpp:180.)\n",
            "  return torch.from_numpy(parsed.astype(m[2], copy=False)).view(*s)\n"
          ]
        }
      ]
    },
    {
      "cell_type": "markdown",
      "metadata": {
        "id": "ciwmGUPbQPw3"
      },
      "source": [
        "###Filtering the datasets of interest '0' and '5' for the training dataset\n",
        "\n",
        "***Note:*** *Filtering the specifics digits was quite challenging but this discussion helped https://discuss.pytorch.org/t/how-to-use-one-class-of-number-in-mnist/26276/19*"
      ]
    },
    {
      "cell_type": "code",
      "metadata": {
        "colab": {
          "base_uri": "https://localhost:8080/",
          "height": 286
        },
        "id": "hAJ5zngOZUkj",
        "outputId": "c6a4556b-4902-4758-c138-3a05f73a1ec2"
      },
      "source": [
        "idx = (dataset.targets==0) | (dataset.targets==5) \n",
        "dataset.targets = dataset.targets[idx]\n",
        "dataset.data = dataset.data[idx]\n",
        "dataset\n",
        "img = dataset[3][0][0]\n",
        "\n",
        "plt.imshow(img, cmap='gray')"
      ],
      "execution_count": 7,
      "outputs": [
        {
          "output_type": "execute_result",
          "data": {
            "text/plain": [
              "<matplotlib.image.AxesImage at 0x7f57ebcc8650>"
            ]
          },
          "metadata": {},
          "execution_count": 7
        },
        {
          "output_type": "display_data",
          "data": {
            "image/png": "[encoded data removed]",
            "text/plain": [
              "<Figure size 432x288 with 1 Axes>"
            ]
          },
          "metadata": {
            "needs_background": "light"
          }
        }
      ]
    },
    {
      "cell_type": "markdown",
      "metadata": {
        "id": "DyuN8pVpQdGc"
      },
      "source": [
        "### Filtering the datasets of interest '0' and '5' for the testing dataset"
      ]
    },
    {
      "cell_type": "code",
      "metadata": {
        "colab": {
          "base_uri": "https://localhost:8080/",
          "height": 286
        },
        "id": "daBPfb_Lh02d",
        "outputId": "88996d6c-06e1-4030-d02c-495d02249632"
      },
      "source": [
        "idx_t = (dataset_test.targets==0) | (dataset_test.targets==5) \n",
        "dataset_test.targets = dataset_test.targets[idx_t]\n",
        "dataset_test.data = dataset_test.data[idx_t]\n",
        "dataset_test\n",
        "img = dataset_test[3][0][0]\n",
        "\n",
        "plt.imshow(img, cmap='gray')"
      ],
      "execution_count": 8,
      "outputs": [
        {
          "output_type": "execute_result",
          "data": {
            "text/plain": [
              "<matplotlib.image.AxesImage at 0x7f57eb7a1990>"
            ]
          },
          "metadata": {},
          "execution_count": 8
        },
        {
          "output_type": "display_data",
          "data": {
            "image/png": "[encoded data removed]",
            "text/plain": [
              "<Figure size 432x288 with 1 Axes>"
            ]
          },
          "metadata": {
            "needs_background": "light"
          }
        }
      ]
    },
    {
      "cell_type": "markdown",
      "metadata": {
        "id": "qB9xdH7-QfnM"
      },
      "source": [
        "###Organizing the datasets of interest in their respective groups for both training and testing datasets"
      ]
    },
    {
      "cell_type": "code",
      "metadata": {
        "id": "_W_zMdECWQmn"
      },
      "source": [
        "zeros_images_tensor = []\n",
        "fives_images_tensor = []\n",
        "for i, (image, label) in enumerate(dataset):\n",
        "  if label == 0:\n",
        "    zeros_images_tensor.append(image)\n",
        "  elif label == 5:\n",
        "    fives_images_tensor.append(image)\n",
        "\n",
        "\n",
        "zeros_images_tensor = torch.stack(zeros_images_tensor).float()\n",
        "fives_images_tensor = torch.stack(fives_images_tensor).float()\n",
        "\n",
        " "
      ],
      "execution_count": 9,
      "outputs": []
    },
    {
      "cell_type": "code",
      "metadata": {
        "id": "NFvC05r1iM91"
      },
      "source": [
        "zeros_test_images_tensor = []\n",
        "fives_test_images_tensor = []\n",
        "for i, (image, label) in enumerate(dataset_test):\n",
        "  if label == 0:\n",
        "    zeros_test_images_tensor.append(image)\n",
        "  elif label == 5:\n",
        "    fives_test_images_tensor.append(image)\n",
        "\n",
        "\n",
        "zeros_test_images_tensor = torch.stack(zeros_test_images_tensor).float()\n",
        "fives_test_images_tensor = torch.stack(fives_test_images_tensor).float()"
      ],
      "execution_count": 10,
      "outputs": []
    },
    {
      "cell_type": "markdown",
      "metadata": {
        "id": "VxJP05YeQs6_"
      },
      "source": [
        "###Checking shapes"
      ]
    },
    {
      "cell_type": "code",
      "metadata": {
        "colab": {
          "base_uri": "https://localhost:8080/"
        },
        "id": "lxsi8lUGhIHF",
        "outputId": "4f44fa6b-0bc4-43a3-9a49-92357bc812b1"
      },
      "source": [
        "zeros_images_tensor.shape,fives_images_tensor.shape"
      ],
      "execution_count": 11,
      "outputs": [
        {
          "output_type": "execute_result",
          "data": {
            "text/plain": [
              "(torch.Size([5923, 1, 28, 28]), torch.Size([5421, 1, 28, 28]))"
            ]
          },
          "metadata": {},
          "execution_count": 11
        }
      ]
    },
    {
      "cell_type": "code",
      "metadata": {
        "colab": {
          "base_uri": "https://localhost:8080/"
        },
        "id": "JdQ_c9xgibUd",
        "outputId": "e6b9ba26-2def-4411-d9ae-a0bd1eb9c1f5"
      },
      "source": [
        "zeros_test_images_tensor.shape , fives_test_images_tensor.shape"
      ],
      "execution_count": 12,
      "outputs": [
        {
          "output_type": "execute_result",
          "data": {
            "text/plain": [
              "(torch.Size([980, 1, 28, 28]), torch.Size([892, 1, 28, 28]))"
            ]
          },
          "metadata": {},
          "execution_count": 12
        }
      ]
    },
    {
      "cell_type": "markdown",
      "metadata": {
        "id": "9JrEl70OQvR5"
      },
      "source": [
        "###Displaying images, and checking the integrity of the datasets"
      ]
    },
    {
      "cell_type": "code",
      "metadata": {
        "colab": {
          "base_uri": "https://localhost:8080/",
          "height": 144
        },
        "id": "Rm3LpZMS7fuE",
        "outputId": "db849634-60e8-4cbc-ecf7-f71e11d753da"
      },
      "source": [
        "img_zero = zeros_images_tensor[0][0]\n",
        "img_five = fives_images_tensor[0][0]\n",
        "img_test_zero = zeros_test_images_tensor[0][0]\n",
        "img_test_five = fives_test_images_tensor[0][0]\n",
        "plt.subplot(141, label = 'zero')\n",
        "plt.imshow(img_zero,  cmap='gray')\n",
        "\n",
        "plt.subplot(142, label = 'test_zero')\n",
        "plt.imshow(img_test_zero,  cmap='gray')\n",
        "\n",
        "plt.subplot(143, label = 'five')\n",
        "plt.imshow(img_five,  cmap='gray')\n",
        "plt.subplot(144, label = 'test_five')\n",
        "plt.imshow(img_test_five,  cmap='gray')"
      ],
      "execution_count": 13,
      "outputs": [
        {
          "output_type": "execute_result",
          "data": {
            "text/plain": [
              "<matplotlib.image.AxesImage at 0x7f57eb6de710>"
            ]
          },
          "metadata": {},
          "execution_count": 13
        },
        {
          "output_type": "display_data",
          "data": {
            "image/png": "[encoded data removed]",
            "text/plain": [
              "<Figure size 432x288 with 4 Axes>"
            ]
          },
          "metadata": {
            "needs_background": "light"
          }
        }
      ]
    },
    {
      "cell_type": "markdown",
      "metadata": {
        "id": "YOwIL-3rQ1Sg"
      },
      "source": [
        "###Squeezing datasets, in order to get reduce the dimension to a 3th dimensional tensor\n"
      ]
    },
    {
      "cell_type": "code",
      "metadata": {
        "id": "VIgQXdYy-D07"
      },
      "source": [
        "#squeezed train tensors\n",
        "fives_squeezed_tensor = torch.squeeze(fives_images_tensor)\n",
        "zeros_squeezed_tensor = torch.squeeze(zeros_images_tensor)\n",
        "\n",
        "#squeezed test tensors\n",
        "fives_test_images_tensor = torch.squeeze(fives_test_images_tensor)\n",
        "zeros_test_images_tensor = torch.squeeze(zeros_test_images_tensor)"
      ],
      "execution_count": 14,
      "outputs": []
    },
    {
      "cell_type": "markdown",
      "metadata": {
        "id": "JrRhyN-xRKOX"
      },
      "source": [
        "###Checking shapes and displaying and image"
      ]
    },
    {
      "cell_type": "code",
      "metadata": {
        "colab": {
          "base_uri": "https://localhost:8080/"
        },
        "id": "uRdxxcJq9LBy",
        "outputId": "448f71ff-8b28-442a-98a9-f66e94579567"
      },
      "source": [
        "fives_squeezed_tensor.shape, zeros_squeezed_tensor.shape"
      ],
      "execution_count": 15,
      "outputs": [
        {
          "output_type": "execute_result",
          "data": {
            "text/plain": [
              "(torch.Size([5421, 28, 28]), torch.Size([5923, 28, 28]))"
            ]
          },
          "metadata": {},
          "execution_count": 15
        }
      ]
    },
    {
      "cell_type": "code",
      "metadata": {
        "colab": {
          "base_uri": "https://localhost:8080/"
        },
        "id": "fg46nM11jyI-",
        "outputId": "d6cdca20-a58e-4726-ec8a-28bed97f3bcc"
      },
      "source": [
        "zeros_test_images_tensor.shape , fives_test_images_tensor.shape"
      ],
      "execution_count": 16,
      "outputs": [
        {
          "output_type": "execute_result",
          "data": {
            "text/plain": [
              "(torch.Size([980, 28, 28]), torch.Size([892, 28, 28]))"
            ]
          },
          "metadata": {},
          "execution_count": 16
        }
      ]
    },
    {
      "cell_type": "code",
      "metadata": {
        "colab": {
          "base_uri": "https://localhost:8080/",
          "height": 286
        },
        "id": "R9qJVeOE5djY",
        "outputId": "a649c85b-1d4c-4527-9a6c-a34d4e269ab4"
      },
      "source": [
        "plt.imshow(zeros_test_images_tensor[0],  cmap='gray')"
      ],
      "execution_count": 17,
      "outputs": [
        {
          "output_type": "execute_result",
          "data": {
            "text/plain": [
              "<matplotlib.image.AxesImage at 0x7f57eb5f12d0>"
            ]
          },
          "metadata": {},
          "execution_count": 17
        },
        {
          "output_type": "display_data",
          "data": {
            "image/png": "[encoded data removed]",
            "text/plain": [
              "<Figure size 432x288 with 1 Axes>"
            ]
          },
          "metadata": {
            "needs_background": "light"
          }
        }
      ]
    },
    {
      "cell_type": "markdown",
      "metadata": {
        "id": "Cl0yFvedRPqy"
      },
      "source": [
        "###Concatenating tensors in a training tensor and labeling "
      ]
    },
    {
      "cell_type": "code",
      "metadata": {
        "id": "MGslBsFOj9Fk"
      },
      "source": [
        "train_x = torch.cat([zeros_squeezed_tensor, fives_squeezed_tensor]).view(-1, 28*28)"
      ],
      "execution_count": 18,
      "outputs": []
    },
    {
      "cell_type": "code",
      "metadata": {
        "colab": {
          "base_uri": "https://localhost:8080/"
        },
        "id": "AN1_j27RkE2l",
        "outputId": "d193ab6b-9637-4394-ce24-c4ef0ec2d27a"
      },
      "source": [
        "train_y = tensor([1]*len(zeros_squeezed_tensor) + [0]*len(fives_squeezed_tensor)).unsqueeze(1)\n",
        "train_x.shape,train_y.shape"
      ],
      "execution_count": 19,
      "outputs": [
        {
          "output_type": "execute_result",
          "data": {
            "text/plain": [
              "(torch.Size([11344, 784]), torch.Size([11344, 1]))"
            ]
          },
          "metadata": {},
          "execution_count": 19
        }
      ]
    },
    {
      "cell_type": "markdown",
      "metadata": {
        "id": "7zDgoe4tRbfj"
      },
      "source": [
        "###Complete training dataset on a list format"
      ]
    },
    {
      "cell_type": "code",
      "metadata": {
        "colab": {
          "base_uri": "https://localhost:8080/"
        },
        "id": "nR6ujalllRcM",
        "outputId": "3127c86b-fc9d-441c-a304-c2cbab37fbea"
      },
      "source": [
        "dset = list(zip(train_x,train_y))\n",
        "x,y = dset[0]\n",
        "x.shape,y\n"
      ],
      "execution_count": 20,
      "outputs": [
        {
          "output_type": "execute_result",
          "data": {
            "text/plain": [
              "(torch.Size([784]), tensor([1]))"
            ]
          },
          "metadata": {},
          "execution_count": 20
        }
      ]
    },
    {
      "cell_type": "markdown",
      "metadata": {
        "id": "YNcIzAeXRxGf"
      },
      "source": [
        "###Complete testing dataset on a list format"
      ]
    },
    {
      "cell_type": "code",
      "metadata": {
        "id": "C6HpcIzdlSwz",
        "colab": {
          "base_uri": "https://localhost:8080/"
        },
        "outputId": "aac83298-6efb-4b8a-e1a4-f9ab5e413fb6"
      },
      "source": [
        "valid_x = torch.cat([zeros_test_images_tensor, fives_test_images_tensor]).view(-1, 28*28)\n",
        "valid_y = tensor([1]*len(zeros_test_images_tensor) + [0]*len(fives_test_images_tensor)).unsqueeze(1)\n",
        "valid_dset = list(zip(valid_x,valid_y))\n",
        "x,y = valid_dset[1000]\n",
        "x.shape,y\n",
        "valid_y.shape , valid_x.shape"
      ],
      "execution_count": 21,
      "outputs": [
        {
          "output_type": "execute_result",
          "data": {
            "text/plain": [
              "(torch.Size([1872, 1]), torch.Size([1872, 784]))"
            ]
          },
          "metadata": {},
          "execution_count": 21
        }
      ]
    },
    {
      "cell_type": "code",
      "metadata": {
        "colab": {
          "base_uri": "https://localhost:8080/"
        },
        "id": "cbXkt-bQLKfK",
        "outputId": "785a3abf-d48a-4774-b00d-226b73f241bc"
      },
      "source": [
        "dl = DataLoader(dset, batch_size=256)\n",
        "xb,yb = first(dl)\n",
        "xb.shape,yb.shape"
      ],
      "execution_count": 22,
      "outputs": [
        {
          "output_type": "execute_result",
          "data": {
            "text/plain": [
              "(torch.Size([256, 784]), torch.Size([256, 1]))"
            ]
          },
          "metadata": {},
          "execution_count": 22
        }
      ]
    },
    {
      "cell_type": "code",
      "metadata": {
        "id": "GUyIAeZGLM-I"
      },
      "source": [
        "valid_dl = DataLoader(valid_dset, batch_size=256)"
      ],
      "execution_count": 23,
      "outputs": []
    },
    {
      "cell_type": "markdown",
      "metadata": {
        "id": "vdWk0IYJdm0Z"
      },
      "source": [
        "##Testing with the fast.ai method"
      ]
    },
    {
      "cell_type": "code",
      "metadata": {
        "id": "uWWu6KhRenc6"
      },
      "source": [
        "def init_params(size, std=1.0): return (torch.randn(size)*std).requires_grad_()"
      ],
      "execution_count": 24,
      "outputs": []
    },
    {
      "cell_type": "code",
      "metadata": {
        "id": "9Xysz7xZK0An"
      },
      "source": [
        "weights = init_params((28*28,1))\n",
        "bias = init_params(1)"
      ],
      "execution_count": 25,
      "outputs": []
    },
    {
      "cell_type": "code",
      "metadata": {
        "colab": {
          "base_uri": "https://localhost:8080/"
        },
        "id": "KdkfRmX8Zayd",
        "outputId": "529322a3-35dc-4869-b2dd-17e64529b91b"
      },
      "source": [
        "def linear1(xb): return xb@weights + bias\n",
        "preds = linear1(train_x)\n",
        "preds"
      ],
      "execution_count": 26,
      "outputs": [
        {
          "output_type": "execute_result",
          "data": {
            "text/plain": [
              "tensor([[-0.9199],\n",
              "        [ 9.3014],\n",
              "        [-1.8903],\n",
              "        ...,\n",
              "        [ 8.7505],\n",
              "        [ 5.1091],\n",
              "        [10.0949]], grad_fn=<AddBackward0>)"
            ]
          },
          "metadata": {},
          "execution_count": 26
        }
      ]
    },
    {
      "cell_type": "code",
      "metadata": {
        "colab": {
          "base_uri": "https://localhost:8080/"
        },
        "id": "irMXDueQKr2o",
        "outputId": "5494263f-0f21-46ad-d513-17a2e519f94c"
      },
      "source": [
        "preds = linear1(train_x)\n",
        "((preds>0.0).float() == train_y).float().mean().item()"
      ],
      "execution_count": 27,
      "outputs": [
        {
          "output_type": "execute_result",
          "data": {
            "text/plain": [
              "0.3411495089530945"
            ]
          },
          "metadata": {},
          "execution_count": 27
        }
      ]
    },
    {
      "cell_type": "code",
      "metadata": {
        "colab": {
          "base_uri": "https://localhost:8080/"
        },
        "id": "pfcJg1_hLObf",
        "outputId": "301c6c63-6683-4847-b2ea-62069556a9a7"
      },
      "source": [
        "batch = train_x[:4]\n",
        "batch.shape"
      ],
      "execution_count": 28,
      "outputs": [
        {
          "output_type": "execute_result",
          "data": {
            "text/plain": [
              "torch.Size([4, 784])"
            ]
          },
          "metadata": {},
          "execution_count": 28
        }
      ]
    },
    {
      "cell_type": "code",
      "metadata": {
        "colab": {
          "base_uri": "https://localhost:8080/"
        },
        "id": "SlB4Dgd7LP38",
        "outputId": "014ce66f-6e40-43fd-a8bb-badf57095fec"
      },
      "source": [
        "preds = linear1(batch)\n",
        "preds"
      ],
      "execution_count": 29,
      "outputs": [
        {
          "output_type": "execute_result",
          "data": {
            "text/plain": [
              "tensor([[-0.9199],\n",
              "        [ 9.3014],\n",
              "        [-1.8903],\n",
              "        [ 2.8119]], grad_fn=<AddBackward0>)"
            ]
          },
          "metadata": {},
          "execution_count": 29
        }
      ]
    },
    {
      "cell_type": "code",
      "metadata": {
        "id": "wSYg52xQNfFJ"
      },
      "source": [
        "def mnist_loss(predictions, targets):\n",
        "    predictions = predictions.sigmoid()\n",
        "    return torch.where(targets==1, 1-predictions, predictions).mean()"
      ],
      "execution_count": 30,
      "outputs": []
    },
    {
      "cell_type": "code",
      "metadata": {
        "colab": {
          "base_uri": "https://localhost:8080/"
        },
        "id": "M24Fwh2ALSNh",
        "outputId": "02d2a02c-ae07-4a0f-f004-d42c7a09d851"
      },
      "source": [
        "loss = mnist_loss(preds, train_y[:4])\n",
        "loss"
      ],
      "execution_count": 31,
      "outputs": [
        {
          "output_type": "execute_result",
          "data": {
            "text/plain": [
              "tensor(0.4102, grad_fn=<MeanBackward0>)"
            ]
          },
          "metadata": {},
          "execution_count": 31
        }
      ]
    },
    {
      "cell_type": "code",
      "metadata": {
        "colab": {
          "base_uri": "https://localhost:8080/"
        },
        "id": "H3WiFyfQLUa0",
        "outputId": "af4858c6-039d-4b34-a3b7-d0f1d28a155d"
      },
      "source": [
        "loss.backward()\n",
        "weights.grad.shape,weights.grad.mean(),bias.grad"
      ],
      "execution_count": 32,
      "outputs": [
        {
          "output_type": "execute_result",
          "data": {
            "text/plain": [
              "(torch.Size([784, 1]), tensor(-0.0156), tensor([-0.0928]))"
            ]
          },
          "metadata": {},
          "execution_count": 32
        }
      ]
    },
    {
      "cell_type": "code",
      "metadata": {
        "id": "3ADQ4vNtLXwX"
      },
      "source": [
        "def calc_grad(xb, yb, model):\n",
        "    preds = model(xb)\n",
        "    loss = mnist_loss(preds, yb)\n",
        "    loss.backward()"
      ],
      "execution_count": 33,
      "outputs": []
    },
    {
      "cell_type": "code",
      "metadata": {
        "colab": {
          "base_uri": "https://localhost:8080/"
        },
        "id": "j37Wt4mOLYVn",
        "outputId": "0033d9ac-8eca-405e-dee7-04d00a8cd6e7"
      },
      "source": [
        "calc_grad(batch, train_y[:4], linear1)\n",
        "weights.grad.mean(),bias.grad"
      ],
      "execution_count": 34,
      "outputs": [
        {
          "output_type": "execute_result",
          "data": {
            "text/plain": [
              "(tensor(-0.0312), tensor([-0.1857]))"
            ]
          },
          "metadata": {},
          "execution_count": 34
        }
      ]
    },
    {
      "cell_type": "code",
      "metadata": {
        "colab": {
          "base_uri": "https://localhost:8080/"
        },
        "id": "61HeYNDLLaKh",
        "outputId": "f8299db4-f8b1-4eb5-a143-4c39d71bbdde"
      },
      "source": [
        "calc_grad(batch, train_y[:4], linear1)\n",
        "weights.grad.mean(),bias.grad"
      ],
      "execution_count": 35,
      "outputs": [
        {
          "output_type": "execute_result",
          "data": {
            "text/plain": [
              "(tensor(-0.0469), tensor([-0.2785]))"
            ]
          },
          "metadata": {},
          "execution_count": 35
        }
      ]
    },
    {
      "cell_type": "code",
      "metadata": {
        "id": "6m2cV7SYLb9f"
      },
      "source": [
        "weights.grad.zero_()\n",
        "bias.grad.zero_();"
      ],
      "execution_count": 36,
      "outputs": []
    },
    {
      "cell_type": "code",
      "metadata": {
        "id": "i64a12LcLgHK"
      },
      "source": [
        "def train_epoch(model, lr, params):\n",
        "    for xb,yb in dl:\n",
        "        calc_grad(xb, yb, model)\n",
        "        for p in params:\n",
        "            p.data -= p.grad*lr\n",
        "            p.grad.zero_()"
      ],
      "execution_count": 37,
      "outputs": []
    },
    {
      "cell_type": "code",
      "metadata": {
        "colab": {
          "base_uri": "https://localhost:8080/"
        },
        "id": "JEpFfa9gLiV9",
        "outputId": "e4993c07-dace-4acb-b1a3-8250c5dc8433"
      },
      "source": [
        "(preds>0.0).float() == train_y[:4]"
      ],
      "execution_count": 38,
      "outputs": [
        {
          "output_type": "execute_result",
          "data": {
            "text/plain": [
              "tensor([[False],\n",
              "        [ True],\n",
              "        [False],\n",
              "        [ True]])"
            ]
          },
          "metadata": {},
          "execution_count": 38
        }
      ]
    },
    {
      "cell_type": "code",
      "metadata": {
        "id": "p-pyjBqqLkJ1"
      },
      "source": [
        "def batch_accuracy(xb, yb):\n",
        "    preds = xb.sigmoid()\n",
        "    correct = (preds>0.5) == yb\n",
        "    return correct.float().mean()"
      ],
      "execution_count": 39,
      "outputs": []
    },
    {
      "cell_type": "code",
      "metadata": {
        "colab": {
          "base_uri": "https://localhost:8080/"
        },
        "id": "v5hocj2yLlfw",
        "outputId": "de07f990-31aa-4d40-d03f-f04da1d5d10c"
      },
      "source": [
        "batch_accuracy(linear1(batch), train_y[:4])"
      ],
      "execution_count": 40,
      "outputs": [
        {
          "output_type": "execute_result",
          "data": {
            "text/plain": [
              "tensor(0.5000)"
            ]
          },
          "metadata": {},
          "execution_count": 40
        }
      ]
    },
    {
      "cell_type": "code",
      "metadata": {
        "id": "2kIoMKqNLopU"
      },
      "source": [
        "def validate_epoch(model):\n",
        "    accs = [batch_accuracy(model(xb), yb) for xb,yb in valid_dl]\n",
        "    return round(torch.stack(accs).mean().item(), 4)"
      ],
      "execution_count": 41,
      "outputs": []
    },
    {
      "cell_type": "code",
      "metadata": {
        "colab": {
          "base_uri": "https://localhost:8080/"
        },
        "id": "Ae6FMhCrLpMP",
        "outputId": "a932124f-f4ae-4a07-d80e-dd1dcbd3acab"
      },
      "source": [
        "validate_epoch(linear1)"
      ],
      "execution_count": 42,
      "outputs": [
        {
          "output_type": "execute_result",
          "data": {
            "text/plain": [
              "0.3032"
            ]
          },
          "metadata": {},
          "execution_count": 42
        }
      ]
    },
    {
      "cell_type": "code",
      "metadata": {
        "colab": {
          "base_uri": "https://localhost:8080/"
        },
        "id": "bWOdUge8NyHq",
        "outputId": "a251bde7-b06e-4eb2-f78c-07d2e948b73b"
      },
      "source": [
        "lr = 1.\n",
        "params = weights,bias\n",
        "train_epoch(linear1, lr, params)\n",
        "validate_epoch(linear1)"
      ],
      "execution_count": 43,
      "outputs": [
        {
          "output_type": "execute_result",
          "data": {
            "text/plain": [
              "0.4858"
            ]
          },
          "metadata": {},
          "execution_count": 43
        }
      ]
    },
    {
      "cell_type": "code",
      "metadata": {
        "colab": {
          "base_uri": "https://localhost:8080/"
        },
        "id": "IenKLxO1LuQa",
        "outputId": "5a31fadd-5ca4-4a8a-e9e2-7e827c897ad5"
      },
      "source": [
        "for i in range(20):\n",
        "    train_epoch(linear1, lr, params)\n",
        "    print(validate_epoch(linear1), end=' ')"
      ],
      "execution_count": 44,
      "outputs": [
        {
          "output_type": "stream",
          "name": "stdout",
          "text": [
            "0.5023 0.5347 0.6006 0.7144 0.8091 0.8735 0.9141 0.9316 0.9414 0.9501 0.956 0.9594 0.9618 0.9652 0.9682 0.9721 0.9735 0.9745 0.9765 0.977 "
          ]
        }
      ]
    },
    {
      "cell_type": "markdown",
      "metadata": {
        "id": "IimKWHlITFnS"
      },
      "source": [
        "##Model"
      ]
    },
    {
      "cell_type": "code",
      "metadata": {
        "id": "h2dvVKizlhub"
      },
      "source": [
        "valid_dl = DataLoader(valid_dset, batch_size=256)\n",
        "dl = DataLoader(dset, batch_size=256)\n"
      ],
      "execution_count": 45,
      "outputs": []
    },
    {
      "cell_type": "markdown",
      "metadata": {
        "id": "_Ywa4XXNTNKR"
      },
      "source": [
        "###Final Dataloader\n"
      ]
    },
    {
      "cell_type": "code",
      "metadata": {
        "id": "_dIQdCy8lzUL",
        "colab": {
          "base_uri": "https://localhost:8080/"
        },
        "outputId": "3458f534-71be-4207-bbe1-1087f7ae37e7"
      },
      "source": [
        "dls = DataLoaders(dl, valid_dl)\n",
        "dls"
      ],
      "execution_count": 46,
      "outputs": [
        {
          "output_type": "execute_result",
          "data": {
            "text/plain": [
              "<fastai.data.core.DataLoaders at 0x7f57ebc7a410>"
            ]
          },
          "metadata": {},
          "execution_count": 46
        }
      ]
    },
    {
      "cell_type": "markdown",
      "metadata": {
        "id": "QWFcqRJ7TQUx"
      },
      "source": [
        "###Accuracy function"
      ]
    },
    {
      "cell_type": "code",
      "metadata": {
        "id": "0U0G2uBDpUyY"
      },
      "source": [
        "def batch_accuracy(xb, yb):\n",
        "    preds = xb.sigmoid()\n",
        "    correct = (preds>0.5) == yb\n",
        "    return correct.float().mean()"
      ],
      "execution_count": 47,
      "outputs": []
    },
    {
      "cell_type": "markdown",
      "metadata": {
        "id": "wZH454fFo73m"
      },
      "source": [
        "### Simple neural net"
      ]
    },
    {
      "cell_type": "code",
      "metadata": {
        "id": "xpybCCcLpXNQ"
      },
      "source": [
        "simple_net = nn.Sequential(\n",
        "    nn.Linear(28*28,30),\n",
        "    nn.ReLU(),\n",
        "    nn.Linear(30,1)\n",
        ")"
      ],
      "execution_count": 48,
      "outputs": []
    },
    {
      "cell_type": "markdown",
      "metadata": {
        "id": "X2-a_0-eTU8k"
      },
      "source": [
        "###Simple linear model"
      ]
    },
    {
      "cell_type": "code",
      "metadata": {
        "id": "1C7xVmADFxCl"
      },
      "source": [
        "linear_model = nn.Linear(28*28,1)"
      ],
      "execution_count": 49,
      "outputs": []
    },
    {
      "cell_type": "markdown",
      "metadata": {
        "id": "mbH0PLPnTY02"
      },
      "source": [
        "###Loss function"
      ]
    },
    {
      "cell_type": "code",
      "metadata": {
        "id": "S0YNKxMnpuNo"
      },
      "source": [
        "def mnist_loss(predictions, targets):\n",
        "    predictions = predictions.sigmoid()\n",
        "    return torch.where(targets==1, 1-predictions, predictions).mean()"
      ],
      "execution_count": 50,
      "outputs": []
    },
    {
      "cell_type": "code",
      "metadata": {
        "id": "47pBxi-N0YBw"
      },
      "source": [
        ""
      ],
      "execution_count": 50,
      "outputs": []
    },
    {
      "cell_type": "markdown",
      "metadata": {
        "id": "O4Tq_-z4TbDB"
      },
      "source": [
        "###Learn function"
      ]
    },
    {
      "cell_type": "code",
      "metadata": {
        "id": "IHIbe5GVpvNf"
      },
      "source": [
        "learn_linear = Learner(dls, linear_model, opt_func=SGD,\n",
        "                loss_func=mnist_loss, metrics=batch_accuracy)"
      ],
      "execution_count": 51,
      "outputs": []
    },
    {
      "cell_type": "code",
      "metadata": {
        "id": "eO1IdeblpJoS"
      },
      "source": [
        "learn_simple = Learner(dls, simple_net, opt_func=SGD,\n",
        "                loss_func=mnist_loss, metrics=batch_accuracy)"
      ],
      "execution_count": 52,
      "outputs": []
    },
    {
      "cell_type": "markdown",
      "metadata": {
        "id": "2zi2YIh2TegC"
      },
      "source": [
        "###Epochs and accuracy"
      ]
    },
    {
      "cell_type": "code",
      "metadata": {
        "colab": {
          "base_uri": "https://localhost:8080/",
          "height": 1000
        },
        "id": "Tc3J2n8Fqzh-",
        "outputId": "11f51ec4-6257-4e85-ff75-31e19601df46"
      },
      "source": [
        "learn_simple.fit(40, 0.1), learn_linear.fit(40, 0.1)"
      ],
      "execution_count": 53,
      "outputs": [
        {
          "output_type": "display_data",
          "data": {
            "text/html": [
              "<table border=\"1\" class=\"dataframe\">\n",
              "  <thead>\n",
              "    <tr style=\"text-align: left;\">\n",
              "      <th>epoch</th>\n",
              "      <th>train_loss</th>\n",
              "      <th>valid_loss</th>\n",
              "      <th>batch_accuracy</th>\n",
              "      <th>time</th>\n",
              "    </tr>\n",
              "  </thead>\n",
              "  <tbody>\n",
              "    <tr>\n",
              "      <td>0</td>\n",
              "      <td>0.376195</td>\n",
              "      <td>0.497408</td>\n",
              "      <td>0.476496</td>\n",
              "      <td>00:00</td>\n",
              "    </tr>\n",
              "    <tr>\n",
              "      <td>1</td>\n",
              "      <td>0.223870</td>\n",
              "      <td>0.455818</td>\n",
              "      <td>0.483440</td>\n",
              "      <td>00:00</td>\n",
              "    </tr>\n",
              "    <tr>\n",
              "      <td>2</td>\n",
              "      <td>0.137808</td>\n",
              "      <td>0.319779</td>\n",
              "      <td>0.679487</td>\n",
              "      <td>00:00</td>\n",
              "    </tr>\n",
              "    <tr>\n",
              "      <td>3</td>\n",
              "      <td>0.088448</td>\n",
              "      <td>0.206275</td>\n",
              "      <td>0.827457</td>\n",
              "      <td>00:00</td>\n",
              "    </tr>\n",
              "    <tr>\n",
              "      <td>4</td>\n",
              "      <td>0.062016</td>\n",
              "      <td>0.141892</td>\n",
              "      <td>0.896368</td>\n",
              "      <td>00:00</td>\n",
              "    </tr>\n",
              "    <tr>\n",
              "      <td>5</td>\n",
              "      <td>0.047541</td>\n",
              "      <td>0.105144</td>\n",
              "      <td>0.925214</td>\n",
              "      <td>00:00</td>\n",
              "    </tr>\n",
              "    <tr>\n",
              "      <td>6</td>\n",
              "      <td>0.039370</td>\n",
              "      <td>0.082333</td>\n",
              "      <td>0.941239</td>\n",
              "      <td>00:00</td>\n",
              "    </tr>\n",
              "    <tr>\n",
              "      <td>7</td>\n",
              "      <td>0.034543</td>\n",
              "      <td>0.067164</td>\n",
              "      <td>0.955128</td>\n",
              "      <td>00:00</td>\n",
              "    </tr>\n",
              "    <tr>\n",
              "      <td>8</td>\n",
              "      <td>0.031486</td>\n",
              "      <td>0.056574</td>\n",
              "      <td>0.961004</td>\n",
              "      <td>00:00</td>\n",
              "    </tr>\n",
              "    <tr>\n",
              "      <td>9</td>\n",
              "      <td>0.029385</td>\n",
              "      <td>0.048902</td>\n",
              "      <td>0.965278</td>\n",
              "      <td>00:00</td>\n",
              "    </tr>\n",
              "    <tr>\n",
              "      <td>10</td>\n",
              "      <td>0.027826</td>\n",
              "      <td>0.043186</td>\n",
              "      <td>0.970620</td>\n",
              "      <td>00:00</td>\n",
              "    </tr>\n",
              "    <tr>\n",
              "      <td>11</td>\n",
              "      <td>0.026599</td>\n",
              "      <td>0.038804</td>\n",
              "      <td>0.973825</td>\n",
              "      <td>00:00</td>\n",
              "    </tr>\n",
              "    <tr>\n",
              "      <td>12</td>\n",
              "      <td>0.025592</td>\n",
              "      <td>0.035355</td>\n",
              "      <td>0.974359</td>\n",
              "      <td>00:00</td>\n",
              "    </tr>\n",
              "    <tr>\n",
              "      <td>13</td>\n",
              "      <td>0.024738</td>\n",
              "      <td>0.032594</td>\n",
              "      <td>0.975427</td>\n",
              "      <td>00:00</td>\n",
              "    </tr>\n",
              "    <tr>\n",
              "      <td>14</td>\n",
              "      <td>0.023997</td>\n",
              "      <td>0.030336</td>\n",
              "      <td>0.976496</td>\n",
              "      <td>00:00</td>\n",
              "    </tr>\n",
              "    <tr>\n",
              "      <td>15</td>\n",
              "      <td>0.023344</td>\n",
              "      <td>0.028461</td>\n",
              "      <td>0.978632</td>\n",
              "      <td>00:00</td>\n",
              "    </tr>\n",
              "    <tr>\n",
              "      <td>16</td>\n",
              "      <td>0.022760</td>\n",
              "      <td>0.026878</td>\n",
              "      <td>0.981303</td>\n",
              "      <td>00:00</td>\n",
              "    </tr>\n",
              "    <tr>\n",
              "      <td>17</td>\n",
              "      <td>0.022232</td>\n",
              "      <td>0.025523</td>\n",
              "      <td>0.981838</td>\n",
              "      <td>00:00</td>\n",
              "    </tr>\n",
              "    <tr>\n",
              "      <td>18</td>\n",
              "      <td>0.021751</td>\n",
              "      <td>0.024351</td>\n",
              "      <td>0.982906</td>\n",
              "      <td>00:00</td>\n",
              "    </tr>\n",
              "    <tr>\n",
              "      <td>19</td>\n",
              "      <td>0.021308</td>\n",
              "      <td>0.023325</td>\n",
              "      <td>0.982906</td>\n",
              "      <td>00:00</td>\n",
              "    </tr>\n",
              "    <tr>\n",
              "      <td>20</td>\n",
              "      <td>0.020895</td>\n",
              "      <td>0.022421</td>\n",
              "      <td>0.983440</td>\n",
              "      <td>00:00</td>\n",
              "    </tr>\n",
              "    <tr>\n",
              "      <td>21</td>\n",
              "      <td>0.020509</td>\n",
              "      <td>0.021616</td>\n",
              "      <td>0.983974</td>\n",
              "      <td>00:00</td>\n",
              "    </tr>\n",
              "    <tr>\n",
              "      <td>22</td>\n",
              "      <td>0.020147</td>\n",
              "      <td>0.020896</td>\n",
              "      <td>0.983974</td>\n",
              "      <td>00:00</td>\n",
              "    </tr>\n",
              "    <tr>\n",
              "      <td>23</td>\n",
              "      <td>0.019804</td>\n",
              "      <td>0.020250</td>\n",
              "      <td>0.984509</td>\n",
              "      <td>00:00</td>\n",
              "    </tr>\n",
              "    <tr>\n",
              "      <td>24</td>\n",
              "      <td>0.019479</td>\n",
              "      <td>0.019664</td>\n",
              "      <td>0.985043</td>\n",
              "      <td>00:00</td>\n",
              "    </tr>\n",
              "    <tr>\n",
              "      <td>25</td>\n",
              "      <td>0.019170</td>\n",
              "      <td>0.019134</td>\n",
              "      <td>0.985043</td>\n",
              "      <td>00:00</td>\n",
              "    </tr>\n",
              "    <tr>\n",
              "      <td>26</td>\n",
              "      <td>0.018877</td>\n",
              "      <td>0.018649</td>\n",
              "      <td>0.986111</td>\n",
              "      <td>00:00</td>\n",
              "    </tr>\n",
              "    <tr>\n",
              "      <td>27</td>\n",
              "      <td>0.018599</td>\n",
              "      <td>0.018205</td>\n",
              "      <td>0.986645</td>\n",
              "      <td>00:00</td>\n",
              "    </tr>\n",
              "    <tr>\n",
              "      <td>28</td>\n",
              "      <td>0.018335</td>\n",
              "      <td>0.017797</td>\n",
              "      <td>0.987179</td>\n",
              "      <td>00:00</td>\n",
              "    </tr>\n",
              "    <tr>\n",
              "      <td>29</td>\n",
              "      <td>0.018083</td>\n",
              "      <td>0.017421</td>\n",
              "      <td>0.987714</td>\n",
              "      <td>00:00</td>\n",
              "    </tr>\n",
              "    <tr>\n",
              "      <td>30</td>\n",
              "      <td>0.017845</td>\n",
              "      <td>0.017073</td>\n",
              "      <td>0.987714</td>\n",
              "      <td>00:00</td>\n",
              "    </tr>\n",
              "    <tr>\n",
              "      <td>31</td>\n",
              "      <td>0.017619</td>\n",
              "      <td>0.016749</td>\n",
              "      <td>0.987714</td>\n",
              "      <td>00:00</td>\n",
              "    </tr>\n",
              "    <tr>\n",
              "      <td>32</td>\n",
              "      <td>0.017404</td>\n",
              "      <td>0.016448</td>\n",
              "      <td>0.988248</td>\n",
              "      <td>00:00</td>\n",
              "    </tr>\n",
              "    <tr>\n",
              "      <td>33</td>\n",
              "      <td>0.017200</td>\n",
              "      <td>0.016167</td>\n",
              "      <td>0.988782</td>\n",
              "      <td>00:00</td>\n",
              "    </tr>\n",
              "    <tr>\n",
              "      <td>34</td>\n",
              "      <td>0.017006</td>\n",
              "      <td>0.015905</td>\n",
              "      <td>0.988782</td>\n",
              "      <td>00:00</td>\n",
              "    </tr>\n",
              "    <tr>\n",
              "      <td>35</td>\n",
              "      <td>0.016822</td>\n",
              "      <td>0.015659</td>\n",
              "      <td>0.988782</td>\n",
              "      <td>00:00</td>\n",
              "    </tr>\n",
              "    <tr>\n",
              "      <td>36</td>\n",
              "      <td>0.016647</td>\n",
              "      <td>0.015428</td>\n",
              "      <td>0.988782</td>\n",
              "      <td>00:00</td>\n",
              "    </tr>\n",
              "    <tr>\n",
              "      <td>37</td>\n",
              "      <td>0.016480</td>\n",
              "      <td>0.015211</td>\n",
              "      <td>0.988782</td>\n",
              "      <td>00:00</td>\n",
              "    </tr>\n",
              "    <tr>\n",
              "      <td>38</td>\n",
              "      <td>0.016320</td>\n",
              "      <td>0.015008</td>\n",
              "      <td>0.988782</td>\n",
              "      <td>00:00</td>\n",
              "    </tr>\n",
              "    <tr>\n",
              "      <td>39</td>\n",
              "      <td>0.016168</td>\n",
              "      <td>0.014815</td>\n",
              "      <td>0.988782</td>\n",
              "      <td>00:00</td>\n",
              "    </tr>\n",
              "  </tbody>\n",
              "</table>"
            ],
            "text/plain": [
              "<IPython.core.display.HTML object>"
            ]
          },
          "metadata": {}
        },
        {
          "output_type": "display_data",
          "data": {
            "text/html": [
              "<table border=\"1\" class=\"dataframe\">\n",
              "  <thead>\n",
              "    <tr style=\"text-align: left;\">\n",
              "      <th>epoch</th>\n",
              "      <th>train_loss</th>\n",
              "      <th>valid_loss</th>\n",
              "      <th>batch_accuracy</th>\n",
              "      <th>time</th>\n",
              "    </tr>\n",
              "  </thead>\n",
              "  <tbody>\n",
              "    <tr>\n",
              "      <td>0</td>\n",
              "      <td>0.272027</td>\n",
              "      <td>0.494991</td>\n",
              "      <td>0.476496</td>\n",
              "      <td>00:00</td>\n",
              "    </tr>\n",
              "    <tr>\n",
              "      <td>1</td>\n",
              "      <td>0.186382</td>\n",
              "      <td>0.408960</td>\n",
              "      <td>0.526709</td>\n",
              "      <td>00:00</td>\n",
              "    </tr>\n",
              "    <tr>\n",
              "      <td>2</td>\n",
              "      <td>0.131551</td>\n",
              "      <td>0.278592</td>\n",
              "      <td>0.745726</td>\n",
              "      <td>00:00</td>\n",
              "    </tr>\n",
              "    <tr>\n",
              "      <td>3</td>\n",
              "      <td>0.099527</td>\n",
              "      <td>0.190209</td>\n",
              "      <td>0.863782</td>\n",
              "      <td>00:00</td>\n",
              "    </tr>\n",
              "    <tr>\n",
              "      <td>4</td>\n",
              "      <td>0.081002</td>\n",
              "      <td>0.139076</td>\n",
              "      <td>0.916667</td>\n",
              "      <td>00:00</td>\n",
              "    </tr>\n",
              "    <tr>\n",
              "      <td>5</td>\n",
              "      <td>0.069815</td>\n",
              "      <td>0.108509</td>\n",
              "      <td>0.940171</td>\n",
              "      <td>00:00</td>\n",
              "    </tr>\n",
              "    <tr>\n",
              "      <td>6</td>\n",
              "      <td>0.062632</td>\n",
              "      <td>0.089001</td>\n",
              "      <td>0.951389</td>\n",
              "      <td>00:00</td>\n",
              "    </tr>\n",
              "    <tr>\n",
              "      <td>7</td>\n",
              "      <td>0.057676</td>\n",
              "      <td>0.075794</td>\n",
              "      <td>0.961538</td>\n",
              "      <td>00:00</td>\n",
              "    </tr>\n",
              "    <tr>\n",
              "      <td>8</td>\n",
              "      <td>0.054014</td>\n",
              "      <td>0.066403</td>\n",
              "      <td>0.967415</td>\n",
              "      <td>00:00</td>\n",
              "    </tr>\n",
              "    <tr>\n",
              "      <td>9</td>\n",
              "      <td>0.051151</td>\n",
              "      <td>0.059450</td>\n",
              "      <td>0.968483</td>\n",
              "      <td>00:00</td>\n",
              "    </tr>\n",
              "    <tr>\n",
              "      <td>10</td>\n",
              "      <td>0.048818</td>\n",
              "      <td>0.054124</td>\n",
              "      <td>0.971688</td>\n",
              "      <td>00:00</td>\n",
              "    </tr>\n",
              "    <tr>\n",
              "      <td>11</td>\n",
              "      <td>0.046857</td>\n",
              "      <td>0.049930</td>\n",
              "      <td>0.974893</td>\n",
              "      <td>00:00</td>\n",
              "    </tr>\n",
              "    <tr>\n",
              "      <td>12</td>\n",
              "      <td>0.045174</td>\n",
              "      <td>0.046547</td>\n",
              "      <td>0.977564</td>\n",
              "      <td>00:00</td>\n",
              "    </tr>\n",
              "    <tr>\n",
              "      <td>13</td>\n",
              "      <td>0.043705</td>\n",
              "      <td>0.043763</td>\n",
              "      <td>0.977564</td>\n",
              "      <td>00:00</td>\n",
              "    </tr>\n",
              "    <tr>\n",
              "      <td>14</td>\n",
              "      <td>0.042408</td>\n",
              "      <td>0.041434</td>\n",
              "      <td>0.977564</td>\n",
              "      <td>00:00</td>\n",
              "    </tr>\n",
              "    <tr>\n",
              "      <td>15</td>\n",
              "      <td>0.041251</td>\n",
              "      <td>0.039456</td>\n",
              "      <td>0.978098</td>\n",
              "      <td>00:00</td>\n",
              "    </tr>\n",
              "    <tr>\n",
              "      <td>16</td>\n",
              "      <td>0.040210</td>\n",
              "      <td>0.037754</td>\n",
              "      <td>0.979167</td>\n",
              "      <td>00:00</td>\n",
              "    </tr>\n",
              "    <tr>\n",
              "      <td>17</td>\n",
              "      <td>0.039268</td>\n",
              "      <td>0.036275</td>\n",
              "      <td>0.979701</td>\n",
              "      <td>00:00</td>\n",
              "    </tr>\n",
              "    <tr>\n",
              "      <td>18</td>\n",
              "      <td>0.038409</td>\n",
              "      <td>0.034976</td>\n",
              "      <td>0.981838</td>\n",
              "      <td>00:00</td>\n",
              "    </tr>\n",
              "    <tr>\n",
              "      <td>19</td>\n",
              "      <td>0.037624</td>\n",
              "      <td>0.033826</td>\n",
              "      <td>0.981303</td>\n",
              "      <td>00:00</td>\n",
              "    </tr>\n",
              "    <tr>\n",
              "      <td>20</td>\n",
              "      <td>0.036900</td>\n",
              "      <td>0.032799</td>\n",
              "      <td>0.981303</td>\n",
              "      <td>00:00</td>\n",
              "    </tr>\n",
              "    <tr>\n",
              "      <td>21</td>\n",
              "      <td>0.036232</td>\n",
              "      <td>0.031877</td>\n",
              "      <td>0.981838</td>\n",
              "      <td>00:00</td>\n",
              "    </tr>\n",
              "    <tr>\n",
              "      <td>22</td>\n",
              "      <td>0.035613</td>\n",
              "      <td>0.031043</td>\n",
              "      <td>0.982906</td>\n",
              "      <td>00:00</td>\n",
              "    </tr>\n",
              "    <tr>\n",
              "      <td>23</td>\n",
              "      <td>0.035036</td>\n",
              "      <td>0.030285</td>\n",
              "      <td>0.983440</td>\n",
              "      <td>00:00</td>\n",
              "    </tr>\n",
              "    <tr>\n",
              "      <td>24</td>\n",
              "      <td>0.034498</td>\n",
              "      <td>0.029593</td>\n",
              "      <td>0.983440</td>\n",
              "      <td>00:00</td>\n",
              "    </tr>\n",
              "    <tr>\n",
              "      <td>25</td>\n",
              "      <td>0.033994</td>\n",
              "      <td>0.028957</td>\n",
              "      <td>0.983440</td>\n",
              "      <td>00:00</td>\n",
              "    </tr>\n",
              "    <tr>\n",
              "      <td>26</td>\n",
              "      <td>0.033521</td>\n",
              "      <td>0.028372</td>\n",
              "      <td>0.983440</td>\n",
              "      <td>00:00</td>\n",
              "    </tr>\n",
              "    <tr>\n",
              "      <td>27</td>\n",
              "      <td>0.033075</td>\n",
              "      <td>0.027830</td>\n",
              "      <td>0.983440</td>\n",
              "      <td>00:00</td>\n",
              "    </tr>\n",
              "    <tr>\n",
              "      <td>28</td>\n",
              "      <td>0.032655</td>\n",
              "      <td>0.027328</td>\n",
              "      <td>0.982906</td>\n",
              "      <td>00:00</td>\n",
              "    </tr>\n",
              "    <tr>\n",
              "      <td>29</td>\n",
              "      <td>0.032258</td>\n",
              "      <td>0.026860</td>\n",
              "      <td>0.982906</td>\n",
              "      <td>00:00</td>\n",
              "    </tr>\n",
              "    <tr>\n",
              "      <td>30</td>\n",
              "      <td>0.031881</td>\n",
              "      <td>0.026422</td>\n",
              "      <td>0.983440</td>\n",
              "      <td>00:00</td>\n",
              "    </tr>\n",
              "    <tr>\n",
              "      <td>31</td>\n",
              "      <td>0.031524</td>\n",
              "      <td>0.026013</td>\n",
              "      <td>0.983974</td>\n",
              "      <td>00:00</td>\n",
              "    </tr>\n",
              "    <tr>\n",
              "      <td>32</td>\n",
              "      <td>0.031184</td>\n",
              "      <td>0.025628</td>\n",
              "      <td>0.983974</td>\n",
              "      <td>00:00</td>\n",
              "    </tr>\n",
              "    <tr>\n",
              "      <td>33</td>\n",
              "      <td>0.030861</td>\n",
              "      <td>0.025267</td>\n",
              "      <td>0.983974</td>\n",
              "      <td>00:00</td>\n",
              "    </tr>\n",
              "    <tr>\n",
              "      <td>34</td>\n",
              "      <td>0.030552</td>\n",
              "      <td>0.024925</td>\n",
              "      <td>0.983974</td>\n",
              "      <td>00:00</td>\n",
              "    </tr>\n",
              "    <tr>\n",
              "      <td>35</td>\n",
              "      <td>0.030257</td>\n",
              "      <td>0.024603</td>\n",
              "      <td>0.983974</td>\n",
              "      <td>00:00</td>\n",
              "    </tr>\n",
              "    <tr>\n",
              "      <td>36</td>\n",
              "      <td>0.029975</td>\n",
              "      <td>0.024298</td>\n",
              "      <td>0.983974</td>\n",
              "      <td>00:00</td>\n",
              "    </tr>\n",
              "    <tr>\n",
              "      <td>37</td>\n",
              "      <td>0.029705</td>\n",
              "      <td>0.024008</td>\n",
              "      <td>0.983974</td>\n",
              "      <td>00:00</td>\n",
              "    </tr>\n",
              "    <tr>\n",
              "      <td>38</td>\n",
              "      <td>0.029446</td>\n",
              "      <td>0.023733</td>\n",
              "      <td>0.984509</td>\n",
              "      <td>00:00</td>\n",
              "    </tr>\n",
              "    <tr>\n",
              "      <td>39</td>\n",
              "      <td>0.029197</td>\n",
              "      <td>0.023471</td>\n",
              "      <td>0.984509</td>\n",
              "      <td>00:00</td>\n",
              "    </tr>\n",
              "  </tbody>\n",
              "</table>"
            ],
            "text/plain": [
              "<IPython.core.display.HTML object>"
            ]
          },
          "metadata": {}
        },
        {
          "output_type": "execute_result",
          "data": {
            "text/plain": [
              "(None, None)"
            ]
          },
          "metadata": {},
          "execution_count": 53
        }
      ]
    },
    {
      "cell_type": "markdown",
      "metadata": {
        "id": "b8VIT1j4ThMN"
      },
      "source": [
        "Accuracy"
      ]
    },
    {
      "cell_type": "code",
      "metadata": {
        "colab": {
          "base_uri": "https://localhost:8080/",
          "height": 285
        },
        "id": "4wvMmUOr2c0v",
        "outputId": "c8a1d998-6017-4339-8760-2009e1171ea7"
      },
      "source": [
        "plt.subplot()\n",
        "plt.plot(L(learn_linear.recorder.values).itemgot(2), label='linear'), \n",
        "plt.plot(L(learn_simple.recorder.values).itemgot(2), label='simple net');\n",
        "plt.legend()"
      ],
      "execution_count": 54,
      "outputs": [
        {
          "output_type": "execute_result",
          "data": {
            "text/plain": [
              "<matplotlib.legend.Legend at 0x7f57eb5b0150>"
            ]
          },
          "metadata": {},
          "execution_count": 54
        },
        {
          "output_type": "display_data",
          "data": {
            "image/png": "[encoded data removed]",
            "text/plain": [
              "<Figure size 432x288 with 1 Axes>"
            ]
          },
          "metadata": {
            "needs_background": "light"
          }
        }
      ]
    }
  ]
}